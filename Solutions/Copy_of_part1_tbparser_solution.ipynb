{
  "nbformat": 4,
  "nbformat_minor": 0,
  "metadata": {
    "colab": {
      "provenance": [],
      "include_colab_link": true
    },
    "kernelspec": {
      "name": "python3",
      "display_name": "Python 3"
    },
    "language_info": {
      "name": "python"
    }
  },
  "cells": [
    {
      "cell_type": "markdown",
      "metadata": {
        "id": "view-in-github",
        "colab_type": "text"
      },
      "source": [
        "<a href=\"https://colab.research.google.com/github/ifriedma/cosc325s24/blob/main/Solutions/Copy_of_part1_tbparser_solution.ipynb\" target=\"_parent\"><img src=\"https://colab.research.google.com/assets/colab-badge.svg\" alt=\"Open In Colab\"/></a>"
      ]
    },
    {
      "cell_type": "code",
      "execution_count": null,
      "metadata": {
        "id": "Qee4bp84VyzB",
        "colab": {
          "base_uri": "https://localhost:8080/"
        },
        "outputId": "c59471fd-051c-4517-dc09-b4df515e7499"
      },
      "outputs": [
        {
          "output_type": "stream",
          "name": "stdout",
          "text": [
            "Requirement already satisfied: ply in /usr/local/lib/python3.10/dist-packages (3.11)\n"
          ]
        }
      ],
      "source": [
        "!pip install ply\n"
      ]
    },
    {
      "cell_type": "code",
      "source": [
        "# PART 1 solution\n",
        "#%cd drive/MyDrive/tb\n",
        "import lexicalanalysis\n",
        "from lexicalanalysis import build_the_lexer\n",
        "lexer = build_the_lexer()\n",
        "sampletb = open(\"hexdump.tb\")\n",
        "#lexer.input(\"A=3\\nB=4\\nPRINT A+B\")\n",
        "lexer.input(sampletb(read))\n",
        "# Tokenize\n",
        "while True:\n",
        "  tok = lexer.token()\n",
        "  if not tok:\n",
        "    break # No more input\n",
        "  print(tok)"
      ],
      "metadata": {
        "id": "EZhGDI2Ym-iT",
        "outputId": "f28508ac-340f-4878-ea67-da9bb4728fbf",
        "colab": {
          "base_uri": "https://localhost:8080/",
          "height": 211
        }
      },
      "execution_count": null,
      "outputs": [
        {
          "output_type": "error",
          "ename": "NameError",
          "evalue": "name 'read' is not defined",
          "traceback": [
            "\u001b[0;31m---------------------------------------------------------------------------\u001b[0m",
            "\u001b[0;31mNameError\u001b[0m                                 Traceback (most recent call last)",
            "\u001b[0;32m<ipython-input-5-834386c0aaa0>\u001b[0m in \u001b[0;36m<cell line: 8>\u001b[0;34m()\u001b[0m\n\u001b[1;32m      6\u001b[0m \u001b[0msampletb\u001b[0m \u001b[0;34m=\u001b[0m \u001b[0mopen\u001b[0m\u001b[0;34m(\u001b[0m\u001b[0;34m\"hexdump.tb\"\u001b[0m\u001b[0;34m)\u001b[0m\u001b[0;34m\u001b[0m\u001b[0;34m\u001b[0m\u001b[0m\n\u001b[1;32m      7\u001b[0m \u001b[0;31m#lexer.input(\"A=3\\nB=4\\nPRINT A+B\")\u001b[0m\u001b[0;34m\u001b[0m\u001b[0;34m\u001b[0m\u001b[0m\n\u001b[0;32m----> 8\u001b[0;31m \u001b[0mlexer\u001b[0m\u001b[0;34m.\u001b[0m\u001b[0minput\u001b[0m\u001b[0;34m(\u001b[0m\u001b[0msampletb\u001b[0m\u001b[0;34m(\u001b[0m\u001b[0mread\u001b[0m\u001b[0;34m)\u001b[0m\u001b[0;34m)\u001b[0m\u001b[0;34m\u001b[0m\u001b[0;34m\u001b[0m\u001b[0m\n\u001b[0m\u001b[1;32m      9\u001b[0m \u001b[0;31m# Tokenize\u001b[0m\u001b[0;34m\u001b[0m\u001b[0;34m\u001b[0m\u001b[0m\n\u001b[1;32m     10\u001b[0m \u001b[0;32mwhile\u001b[0m \u001b[0;32mTrue\u001b[0m\u001b[0;34m:\u001b[0m\u001b[0;34m\u001b[0m\u001b[0;34m\u001b[0m\u001b[0m\n",
            "\u001b[0;31mNameError\u001b[0m: name 'read' is not defined"
          ]
        }
      ]
    },
    {
      "cell_type": "code",
      "source": [
        "# PART 2 solution - recursive descent top-down parser by hand\n",
        "from lexicalanalysis import build_the_lexer\n",
        "lexer = build_the_lexer\n",
        "\n",
        "# define all the non terminal parsing functions\n",
        "def tokerror(tok):\n",
        "  print(f\"Unexpected token found: {tok.type}, Expecting: {exp}\")\n",
        "\n",
        "def program(tok):\n",
        "  actual_statement(tok)\n",
        "  tok = lexer.token()\n",
        "  while tok != None:\n",
        "    actual_statement(tok)\n",
        "    tok = lexer.token()\n",
        "\n",
        "def actual_statement(tok):\n",
        "  if tok.type != \"NUMBER\":\n",
        "    tokerror(tok, \"NUMBER\")\n",
        "  tok = lexer.token()\n",
        "  tok = statement(tok)\n",
        "  if tok.type != \"NEWLINE\":\n",
        "    tokerror(tok, \"NEWLINE\")\n",
        "\n",
        "def statement(tok):\n",
        "  # look for a statement\n",
        "  if tok.type == \"PRINT\":\n",
        "    tok = myprint(tok)\n",
        "  elif tok.type == \"INPUT\":\n",
        "    tok = myinput(tok)\n",
        "  elif tok.type == \"LET\":\n",
        "    let(tok)\n",
        "    tok = lexer.token()\n",
        "  elif tok.type == \"GOTO\":\n",
        "    goto(tok)\n",
        "    tok = lexer.token()\n",
        "  elif tok.type == \"GOSUB\":\n",
        "    gosub(tok)\n",
        "    tok = lexer.token()\n",
        "  elif tok.type == \"IF\":\n",
        "    myif(tok)\n",
        "    tok = lexer.token()\n",
        "  elif tok.type == \"END\":\n",
        "    tok = lexer.token()\n",
        "  elif tok.type == \"RETURN\":\n",
        "    tok = lexer.token()\n",
        "  elif tok.type == \"RND\" or tok.type == \"USR\":\n",
        "    function(tok)\n",
        "    tok = lexer.token()\n",
        "  elif tok.type == \"REM\":\n",
        "    tok = lexer.token()\n",
        "  else:\n",
        "    tokerror(tok, \"PRINT, INPUT, RETURN, END, ...\")\n",
        "  return tok\n",
        "\n",
        "\n",
        "def function(tok):\n",
        "  tok = lexer.token()\n",
        "  # insert your code here\n",
        "\n",
        "def myif(tok):\n",
        "  tok = lexer.token()\n",
        "  # insert your code here\n",
        "\n",
        "def gosub(tok):\n",
        "  tok = lexer.token()\n",
        "  # insert your code here\n",
        "\n",
        "def goto(tok):\n",
        "  tok = lexer.token()\n",
        "  # insert your code here\n",
        "\n",
        "def let(tok):\n",
        "  tok = lexer.token()\n",
        "  # insert your code here\n",
        "\n",
        "def myinput(tok):\n",
        "  tok = lexer.token()\n",
        "  # insert your code here\n",
        "\n",
        "def myprint(tok):\n",
        "  # no need to check for print token itself again, as that's the only way this function is being called\n",
        "  tok = lexer.token()\n",
        "  tok = expr_list(tok)\n",
        "  return tok\n",
        "\n",
        "def expr_list(tok):\n",
        "  # look for an expression list\n",
        "  if tok.type != \"STRING\":\n",
        "    tok = expression(tok)\n",
        "  while tok.type == \"COMMA\":\n",
        "    tok = expression(tok)\n",
        "  return tok\n",
        "\n",
        "# note that experssion MUST make an extra call to lex before it finishes\n",
        "# so we need to return that token to whoever called expression\n",
        "def expression(tok):\n",
        "  if tok.type != \"PLUS\" and tok.type != \"MINUS\":\n",
        "    term(tok)\n",
        "  tok = lexer.token()\n",
        "  while tok.type == \"PLUS\" or tok.type == \"MINUS\":\n",
        "    tok = term(tok)\n",
        "  return tok\n",
        "\n",
        "def term(tok):\n",
        "  factor(tok)\n",
        "  tok = lexer.token()\n",
        "  while tok.type == \"TIMES\" or tok.type == \"DIVIDE\":\n",
        "   factor(tok)\n",
        "   tok = lexer.token()\n",
        "  return tok\n",
        "\n",
        "def factor(tok):\n",
        "  if tok.type != \"VAR\" and tok.type != \"NUMBER\" and tok.type != \"LPAREN\":\n",
        "    tokerror(tok, \"VAR, NUMBER, LPAREN\")\n",
        "  if tok.type == \"LPAREN\":\n",
        "    tok = lexer.token()\n",
        "    tok = expression(tok)\n",
        "    if tok.type != \"RPAREN\":\n",
        "      tokerror(tok, \"RPAREN\")\n",
        "\n",
        "# now, open a program and parse it\n",
        "thesourcecode = open(\"hexdump.tb\", \"r\")\n",
        "#lexer.input(\"A=3\\nB=4\\nPRINT A+B\")\n",
        "lexer.input(thesourcecode(read()))\n"
      ],
      "metadata": {
        "id": "AtRDXKXshO_h",
        "outputId": "a0906b2c-8e98-465e-893c-e082f44b0011",
        "colab": {
          "base_uri": "https://localhost:8080/",
          "height": 176
        }
      },
      "execution_count": null,
      "outputs": [
        {
          "output_type": "error",
          "ename": "AttributeError",
          "evalue": "'function' object has no attribute 'input'",
          "traceback": [
            "\u001b[0;31m---------------------------------------------------------------------------\u001b[0m",
            "\u001b[0;31mAttributeError\u001b[0m                            Traceback (most recent call last)",
            "\u001b[0;32m<ipython-input-6-cb866c291ff9>\u001b[0m in \u001b[0;36m<cell line: 124>\u001b[0;34m()\u001b[0m\n\u001b[1;32m    122\u001b[0m \u001b[0mthesourcecode\u001b[0m \u001b[0;34m=\u001b[0m \u001b[0mopen\u001b[0m\u001b[0;34m(\u001b[0m\u001b[0;34m\"hexdump.tb\"\u001b[0m\u001b[0;34m,\u001b[0m \u001b[0;34m\"r\"\u001b[0m\u001b[0;34m)\u001b[0m\u001b[0;34m\u001b[0m\u001b[0;34m\u001b[0m\u001b[0m\n\u001b[1;32m    123\u001b[0m \u001b[0;31m#lexer.input(\"A=3\\nB=4\\nPRINT A+B\")\u001b[0m\u001b[0;34m\u001b[0m\u001b[0;34m\u001b[0m\u001b[0m\n\u001b[0;32m--> 124\u001b[0;31m \u001b[0mlexer\u001b[0m\u001b[0;34m.\u001b[0m\u001b[0minput\u001b[0m\u001b[0;34m(\u001b[0m\u001b[0mthesourcecode\u001b[0m\u001b[0;34m(\u001b[0m\u001b[0mread\u001b[0m\u001b[0;34m(\u001b[0m\u001b[0;34m)\u001b[0m\u001b[0;34m)\u001b[0m\u001b[0;34m)\u001b[0m\u001b[0;34m\u001b[0m\u001b[0;34m\u001b[0m\u001b[0m\n\u001b[0m",
            "\u001b[0;31mAttributeError\u001b[0m: 'function' object has no attribute 'input'"
          ]
        }
      ]
    }
  ]
}