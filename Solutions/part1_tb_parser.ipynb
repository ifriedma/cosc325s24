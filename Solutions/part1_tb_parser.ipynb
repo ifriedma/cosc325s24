# PART 1 solution
#%cd drive/MyDrive/tb
import lexicalanalysis
from lexicalanalysis import build_the_lexer
lexer = build_the_lexer()
sampletb = open("random.tb")
#lexer.input("A=3\nB=4\nPRINT A+B")
lexer.input(sampletb.read)
# Tokenize
while True:
  tok = lexer.token()
  if not tok:
    break # No more input
  print(tok)
