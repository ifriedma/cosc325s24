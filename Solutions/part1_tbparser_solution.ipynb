{
  "nbformat": 4,
  "nbformat_minor": 0,
  "metadata": {
    "colab": {
      "provenance": [],
      "include_colab_link": true
    },
    "kernelspec": {
      "name": "python3",
      "display_name": "Python 3"
    },
    "language_info": {
      "name": "python"
    }
  },
  "cells": [
    {
      "cell_type": "markdown",
      "metadata": {
        "id": "view-in-github",
        "colab_type": "text"
      },
      "source": [
        "<a href=\"https://colab.research.google.com/github/ifriedma/cosc325s24/blob/main/Solutions/part1_tbparser_solution.ipynb\" target=\"_parent\"><img src=\"https://colab.research.google.com/assets/colab-badge.svg\" alt=\"Open In Colab\"/></a>"
      ]
    },
    {
      "cell_type": "code",
      "execution_count": null,
      "metadata": {
        "id": "Qee4bp84VyzB",
        "colab": {
          "base_uri": "https://localhost:8080/"
        },
        "outputId": "906ba6af-5eae-47e1-e9e5-9db51a8bad6d"
      },
      "outputs": [
        {
          "output_type": "stream",
          "name": "stdout",
          "text": [
            "Requirement already satisfied: ply in /usr/local/lib/python3.10/dist-packages (3.11)\n"
          ]
        }
      ],
      "source": [
        "!pip install ply\n"
      ]
    },
    {
      "cell_type": "code",
      "source": [
        "#%cd drive/MyDrive/tb\n",
        "import lexicalanalysis\n",
        "from lexicalanalysis\n",
        "\n",
        "lexer = build_the_lexer()\n",
        "sampletb = open(\"hexdump.tb\")"
      ],
      "metadata": {
        "id": "EZhGDI2Ym-iT"
      },
      "execution_count": null,
      "outputs": []
    },
    {
      "cell_type": "code",
      "source": [
        "import lexicalanalysis\n",
        "from lexicalanalysis import build_the_lexer\n",
        "lexer = build_the_lexer()\n",
        "\n",
        "# define all the non terminal parsing functions\n",
        "valid_lines_of_code = 0\n",
        "\n",
        "def tokerror(tok):\n",
        "  print(f\"Unexpected token found: {tok.type}, Expecting: {exp}\")\n",
        "\n",
        "def program(tok):\n",
        "  actual_statement(tok)\n",
        "  tok = lexer.token()\n",
        "  while tok != None:\n",
        "    actual_statement(tok)\n",
        "    tok = lexer.token()\n",
        "\n",
        "def actual_statement(tok):\n",
        "  if tok.type != \"NUMBER\":\n",
        "    tokerror(tok, \"NUMBER\")\n",
        "  tok = lexer.token()\n",
        "  statement(tok)\n",
        "  tok = lexer.token()\n",
        "  if tok.type != \"NEWLINE\":\n",
        "    tokerror(tok, \"NEWLINE\")\n",
        "\n",
        "def statement(tok):\n",
        "  # look for a statement\n",
        "  if tok.type == \"PRINT\":\n",
        "    myprint(tok)\n",
        "  elif tok.type == \"INPUT\":\n",
        "    myinput(tok)\n",
        "  elif tok.type == \"LET\":\n",
        "    let(tok)\n",
        "  elif tok.type == \"GOTO\":\n",
        "    goto(tok)\n",
        "  elif tok.type == \"GOSUB\":\n",
        "    gosub(tok)\n",
        "  elif tok.type == \"IF\":\n",
        "    myif(tok)\n",
        "  elif tok.type == \"END\":\n",
        "    pass # nothing to do because there is NO TOKEN expected after END\n",
        "  elif tok.type == \"RETURN\":\n",
        "    pass # nothing to do because there is NO TOKEN expected after RETURN\n",
        "  elif tok.type == \"RND\" or\n",
        "  elif tok.type == \"REM\":\n",
        "    pass\n",
        "  else:\n",
        "    tokerror(tok, )\n",
        "\n",
        "\n",
        "def myprint(tok):\n",
        "  # no need to check for print token itself again, as that's the only way this function is being called\n",
        "  tok = lexer.token()\n",
        "  expr_list(tok)\n",
        "\n",
        "def expr_list(tok):\n",
        "  # look for an expression list\n",
        "  if tok.type != \"STRING\":\n",
        "    tok = expression(tok)\n",
        "    # not done yet!\n",
        "# note that experssion MUST make an extra call to lex before it finishes\n",
        "# so we need to return that token to whoever called expression\n",
        "def expression(tok):\n",
        "  if tok.type != \"PLUS\" and tok.type != \"MINUS\":\n",
        "    term(tok)\n",
        "  tok = lexer.token()\n",
        "  while tok.type == \"PLUS\" or tok.type == \"MINUS\":\n",
        "    tok = term(tok)\n",
        "  return tok\n",
        "\n",
        "\n",
        "# now, open a program and parse it\n",
        "thesourcecode = open(\"hexdump.tb\", \"r\")\n",
        "#lexer.input(\"A=3\\nB=4\\nPRINT A+B\")\n",
        "lexer.input(thesourcecode(read()))\n"
      ],
      "metadata": {
        "id": "AtRDXKXshO_h"
      },
      "execution_count": null,
      "outputs": []
    }
  ]
}